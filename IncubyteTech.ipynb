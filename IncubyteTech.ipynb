{
  "nbformat": 4,
  "nbformat_minor": 0,
  "metadata": {
    "colab": {
      "name": "IncubyteTech.ipynb",
      "provenance": [],
      "collapsed_sections": [],
      "authorship_tag": "ABX9TyNhPuldcuQJevg15Baal7W6",
      "include_colab_link": true
    },
    "kernelspec": {
      "name": "python3",
      "display_name": "Python 3"
    },
    "language_info": {
      "name": "python"
    }
  },
  "cells": [
    {
      "cell_type": "markdown",
      "metadata": {
        "id": "view-in-github",
        "colab_type": "text"
      },
      "source": [
        "<a href=\"https://colab.research.google.com/github/prasad-kamlaskar/incubyte-tech/blob/main/IncubyteTech.ipynb\" target=\"_parent\"><img src=\"https://colab.research.google.com/assets/colab-badge.svg\" alt=\"Open In Colab\"/></a>"
      ]
    },
    {
      "cell_type": "code",
      "metadata": {
        "id": "wDhNaYsty427"
      },
      "source": [
        "source_file_path = r'/home/data/src_customers_01.txt'"
      ],
      "execution_count": 88,
      "outputs": []
    },
    {
      "cell_type": "code",
      "metadata": {
        "id": "IdMmWgX02n0X"
      },
      "source": [
        "import pandas as pd\n",
        "import sqlite3"
      ],
      "execution_count": 89,
      "outputs": []
    },
    {
      "cell_type": "code",
      "metadata": {
        "colab": {
          "base_uri": "https://localhost:8080/",
          "height": 222
        },
        "id": "o2oNXv9c0Fsw",
        "outputId": "ce018ff0-aaad-418b-cd42-b521f46d7e85"
      },
      "source": [
        "#Extraction from the source\n",
        "src = pd.read_csv(source_file_path, header=0, sep='|').iloc[:,1:]\n",
        "src.head()"
      ],
      "execution_count": 90,
      "outputs": [
        {
          "output_type": "execute_result",
          "data": {
            "text/html": [
              "<div>\n",
              "<style scoped>\n",
              "    .dataframe tbody tr th:only-of-type {\n",
              "        vertical-align: middle;\n",
              "    }\n",
              "\n",
              "    .dataframe tbody tr th {\n",
              "        vertical-align: top;\n",
              "    }\n",
              "\n",
              "    .dataframe thead th {\n",
              "        text-align: right;\n",
              "    }\n",
              "</style>\n",
              "<table border=\"1\" class=\"dataframe\">\n",
              "  <thead>\n",
              "    <tr style=\"text-align: right;\">\n",
              "      <th></th>\n",
              "      <th>H</th>\n",
              "      <th>Customer_Name</th>\n",
              "      <th>Customer_Id</th>\n",
              "      <th>Open_Date</th>\n",
              "      <th>Last_Consulted_Date</th>\n",
              "      <th>Vaccination_Id</th>\n",
              "      <th>Dr_Name</th>\n",
              "      <th>State</th>\n",
              "      <th>Country</th>\n",
              "      <th>DOB</th>\n",
              "      <th>Is_Active</th>\n",
              "    </tr>\n",
              "  </thead>\n",
              "  <tbody>\n",
              "    <tr>\n",
              "      <th>0</th>\n",
              "      <td>D</td>\n",
              "      <td>Alex</td>\n",
              "      <td>123457</td>\n",
              "      <td>20101012</td>\n",
              "      <td>20121013</td>\n",
              "      <td>MVD</td>\n",
              "      <td>Paul</td>\n",
              "      <td>SA</td>\n",
              "      <td>USA</td>\n",
              "      <td>6031987</td>\n",
              "      <td>A</td>\n",
              "    </tr>\n",
              "    <tr>\n",
              "      <th>1</th>\n",
              "      <td>D</td>\n",
              "      <td>John</td>\n",
              "      <td>123458</td>\n",
              "      <td>20101012</td>\n",
              "      <td>20121013</td>\n",
              "      <td>MVD</td>\n",
              "      <td>Paul</td>\n",
              "      <td>TN</td>\n",
              "      <td>IND</td>\n",
              "      <td>6031987</td>\n",
              "      <td>A</td>\n",
              "    </tr>\n",
              "    <tr>\n",
              "      <th>2</th>\n",
              "      <td>D</td>\n",
              "      <td>Mathew</td>\n",
              "      <td>123459</td>\n",
              "      <td>20101012</td>\n",
              "      <td>20121013</td>\n",
              "      <td>MVD</td>\n",
              "      <td>Paul</td>\n",
              "      <td>WAS</td>\n",
              "      <td>PHIL</td>\n",
              "      <td>6031987</td>\n",
              "      <td>A</td>\n",
              "    </tr>\n",
              "    <tr>\n",
              "      <th>3</th>\n",
              "      <td>D</td>\n",
              "      <td>Matt</td>\n",
              "      <td>12345</td>\n",
              "      <td>20101012</td>\n",
              "      <td>20121013</td>\n",
              "      <td>MVD</td>\n",
              "      <td>Paul</td>\n",
              "      <td>BOS</td>\n",
              "      <td>NYC</td>\n",
              "      <td>6031987</td>\n",
              "      <td>A</td>\n",
              "    </tr>\n",
              "    <tr>\n",
              "      <th>4</th>\n",
              "      <td>D</td>\n",
              "      <td>Jacob</td>\n",
              "      <td>1256</td>\n",
              "      <td>20101012</td>\n",
              "      <td>20121013</td>\n",
              "      <td>MVD</td>\n",
              "      <td>Paul</td>\n",
              "      <td>VIC</td>\n",
              "      <td>AU</td>\n",
              "      <td>6031987</td>\n",
              "      <td>A</td>\n",
              "    </tr>\n",
              "  </tbody>\n",
              "</table>\n",
              "</div>"
            ],
            "text/plain": [
              "   H Customer_Name  Customer_Id  Open_Date  ...  State Country      DOB Is_Active\n",
              "0  D          Alex       123457   20101012  ...     SA     USA  6031987         A\n",
              "1  D          John       123458   20101012  ...     TN     IND  6031987         A\n",
              "2  D        Mathew       123459   20101012  ...    WAS    PHIL  6031987         A\n",
              "3  D          Matt        12345   20101012  ...    BOS     NYC  6031987         A\n",
              "4  D         Jacob         1256   20101012  ...    VIC      AU  6031987         A\n",
              "\n",
              "[5 rows x 11 columns]"
            ]
          },
          "metadata": {
            "tags": []
          },
          "execution_count": 90
        }
      ]
    },
    {
      "cell_type": "code",
      "metadata": {
        "colab": {
          "base_uri": "https://localhost:8080/"
        },
        "id": "PBo6xhJg0-jW",
        "outputId": "22baa2ae-c275-45e5-a6e4-51eedaff0fe2"
      },
      "source": [
        "#staging data\n",
        "createTableSTG = '''\n",
        "CREATE TABLE IF NOT EXISTS CUSTOMER_SR (\n",
        "  'Customer Name' VARCHAR(255) NOT NULL PRIMARY KEY, \n",
        "  'Customer ID' VARCHAR(18) NOT NULL,\n",
        "  'Customer Open Date' DATE NOT NULL,\n",
        "  'Last Consulted Date' DATE,\n",
        "  'Vaccination Type' CHAR(5),\n",
        "  'Doctor Consulted' CHAR(255),\n",
        "  'State' CHAR(5),\n",
        "  'Country' CHAR(5),\n",
        "  'Post Code' DECIMAL(5,0),\n",
        "  'Date of Birth' DATE,\n",
        "  'Active Customer' CHAR(1)\n",
        ") '''\n",
        "\n",
        "with sqlite3.connect('/home/data/DM_STG.sqlite3') as conn:\n",
        "  cur = conn.cursor()\n",
        "  cur.execute(createTableSTG)\n",
        "  src.to_sql('CUSTOMER_SR',if_exists='replace', method='multi' , index=False, con=conn)\n",
        "  conn.commit()\n",
        "  #Country List for which target tables has to be generated\n",
        "  cur.execute('SELECT DISTINCT Country FROM CUSTOMER_SR')\n",
        "  countryList = [x[0] for x in cur.fetchall()]\n",
        "  print('CountryList : ',countryList)"
      ],
      "execution_count": 91,
      "outputs": [
        {
          "output_type": "stream",
          "text": [
            "CountryList :  ['USA', 'IND', 'PHIL', 'NYC', 'AU']\n"
          ],
          "name": "stdout"
        }
      ]
    },
    {
      "cell_type": "code",
      "metadata": {
        "id": "0JoyrB3HS5tp"
      },
      "source": [
        "#creating target table\n",
        "with sqlite3.connect('/home/data/DM_STG.sqlite3') as conn:\n",
        "  cur = conn.cursor()\n",
        "  #List of tables - Already exist\n",
        "  cur = conn.execute(\"SELECT name FROM sqlite_master where type = 'table' and name like 'Table_%' \")\n",
        "  tableList = [x[0] for x in cur.fetchall()]\n",
        "  #print('Existng Tables : ',tableList)\n",
        "  \n",
        "  for country in countryList:\n",
        "    if 'Table_' + country not in tableList:\n",
        "      createTargetSQL = f\"CREATE TABLE Table_{country} AS SELECT * FROM CUSTOMER_SR WHERE Country ='{country}'\"\n",
        "      cur = conn.execute(createTargetSQL)\n",
        "    else:\n",
        "      insertTargetSQL = f\"INSERT INTO Table_{country} SELECT * FROM CUSTOMER_SR WHERE Country ='{country}'\"\n",
        "      cur = conn.execute(insertTargetSQL)\n",
        "  conn.commit()\n"
      ],
      "execution_count": 92,
      "outputs": []
    },
    {
      "cell_type": "code",
      "metadata": {
        "colab": {
          "base_uri": "https://localhost:8080/",
          "height": 607
        },
        "id": "fS2Jbt3UaZC3",
        "outputId": "880daf78-4826-46f8-b0c0-e69b90a17d07"
      },
      "source": [
        "#Final Output\n",
        "with sqlite3.connect('/home/data/DM_STG.sqlite3') as conn:\n",
        "  cur = conn.cursor()\n",
        "  #Table Content\n",
        "  cur = conn.execute(\"SELECT name FROM sqlite_master where type = 'table' and name like 'Table_%' \")\n",
        "  tableList = [x[0] for x in cur.fetchall()]\n",
        "\n",
        "  for table in tableList:\n",
        "    print('\\n\\nTable : ',table)\n",
        "    target = pd.read_sql('SELECT * FROM '+ table, con=conn)\n",
        "    display(target)\n",
        "  "
      ],
      "execution_count": 105,
      "outputs": [
        {
          "output_type": "stream",
          "text": [
            "\n",
            "\n",
            "Table :  Table_USA\n"
          ],
          "name": "stdout"
        },
        {
          "output_type": "display_data",
          "data": {
            "text/html": [
              "<div>\n",
              "<style scoped>\n",
              "    .dataframe tbody tr th:only-of-type {\n",
              "        vertical-align: middle;\n",
              "    }\n",
              "\n",
              "    .dataframe tbody tr th {\n",
              "        vertical-align: top;\n",
              "    }\n",
              "\n",
              "    .dataframe thead th {\n",
              "        text-align: right;\n",
              "    }\n",
              "</style>\n",
              "<table border=\"1\" class=\"dataframe\">\n",
              "  <thead>\n",
              "    <tr style=\"text-align: right;\">\n",
              "      <th></th>\n",
              "      <th>H</th>\n",
              "      <th>Customer_Name</th>\n",
              "      <th>Customer_Id</th>\n",
              "      <th>Open_Date</th>\n",
              "      <th>Last_Consulted_Date</th>\n",
              "      <th>Vaccination_Id</th>\n",
              "      <th>Dr_Name</th>\n",
              "      <th>State</th>\n",
              "      <th>Country</th>\n",
              "      <th>DOB</th>\n",
              "      <th>Is_Active</th>\n",
              "    </tr>\n",
              "  </thead>\n",
              "  <tbody>\n",
              "    <tr>\n",
              "      <th>0</th>\n",
              "      <td>D</td>\n",
              "      <td>Alex</td>\n",
              "      <td>123457</td>\n",
              "      <td>20101012</td>\n",
              "      <td>20121013</td>\n",
              "      <td>MVD</td>\n",
              "      <td>Paul</td>\n",
              "      <td>SA</td>\n",
              "      <td>USA</td>\n",
              "      <td>6031987</td>\n",
              "      <td>A</td>\n",
              "    </tr>\n",
              "  </tbody>\n",
              "</table>\n",
              "</div>"
            ],
            "text/plain": [
              "   H Customer_Name  Customer_Id  Open_Date  ...  State Country      DOB Is_Active\n",
              "0  D          Alex       123457   20101012  ...     SA     USA  6031987         A\n",
              "\n",
              "[1 rows x 11 columns]"
            ]
          },
          "metadata": {
            "tags": []
          }
        },
        {
          "output_type": "stream",
          "text": [
            "\n",
            "\n",
            "Table :  Table_IND\n"
          ],
          "name": "stdout"
        },
        {
          "output_type": "display_data",
          "data": {
            "text/html": [
              "<div>\n",
              "<style scoped>\n",
              "    .dataframe tbody tr th:only-of-type {\n",
              "        vertical-align: middle;\n",
              "    }\n",
              "\n",
              "    .dataframe tbody tr th {\n",
              "        vertical-align: top;\n",
              "    }\n",
              "\n",
              "    .dataframe thead th {\n",
              "        text-align: right;\n",
              "    }\n",
              "</style>\n",
              "<table border=\"1\" class=\"dataframe\">\n",
              "  <thead>\n",
              "    <tr style=\"text-align: right;\">\n",
              "      <th></th>\n",
              "      <th>H</th>\n",
              "      <th>Customer_Name</th>\n",
              "      <th>Customer_Id</th>\n",
              "      <th>Open_Date</th>\n",
              "      <th>Last_Consulted_Date</th>\n",
              "      <th>Vaccination_Id</th>\n",
              "      <th>Dr_Name</th>\n",
              "      <th>State</th>\n",
              "      <th>Country</th>\n",
              "      <th>DOB</th>\n",
              "      <th>Is_Active</th>\n",
              "    </tr>\n",
              "  </thead>\n",
              "  <tbody>\n",
              "    <tr>\n",
              "      <th>0</th>\n",
              "      <td>D</td>\n",
              "      <td>John</td>\n",
              "      <td>123458</td>\n",
              "      <td>20101012</td>\n",
              "      <td>20121013</td>\n",
              "      <td>MVD</td>\n",
              "      <td>Paul</td>\n",
              "      <td>TN</td>\n",
              "      <td>IND</td>\n",
              "      <td>6031987</td>\n",
              "      <td>A</td>\n",
              "    </tr>\n",
              "  </tbody>\n",
              "</table>\n",
              "</div>"
            ],
            "text/plain": [
              "   H Customer_Name  Customer_Id  Open_Date  ...  State Country      DOB Is_Active\n",
              "0  D          John       123458   20101012  ...     TN     IND  6031987         A\n",
              "\n",
              "[1 rows x 11 columns]"
            ]
          },
          "metadata": {
            "tags": []
          }
        },
        {
          "output_type": "stream",
          "text": [
            "\n",
            "\n",
            "Table :  Table_PHIL\n"
          ],
          "name": "stdout"
        },
        {
          "output_type": "display_data",
          "data": {
            "text/html": [
              "<div>\n",
              "<style scoped>\n",
              "    .dataframe tbody tr th:only-of-type {\n",
              "        vertical-align: middle;\n",
              "    }\n",
              "\n",
              "    .dataframe tbody tr th {\n",
              "        vertical-align: top;\n",
              "    }\n",
              "\n",
              "    .dataframe thead th {\n",
              "        text-align: right;\n",
              "    }\n",
              "</style>\n",
              "<table border=\"1\" class=\"dataframe\">\n",
              "  <thead>\n",
              "    <tr style=\"text-align: right;\">\n",
              "      <th></th>\n",
              "      <th>H</th>\n",
              "      <th>Customer_Name</th>\n",
              "      <th>Customer_Id</th>\n",
              "      <th>Open_Date</th>\n",
              "      <th>Last_Consulted_Date</th>\n",
              "      <th>Vaccination_Id</th>\n",
              "      <th>Dr_Name</th>\n",
              "      <th>State</th>\n",
              "      <th>Country</th>\n",
              "      <th>DOB</th>\n",
              "      <th>Is_Active</th>\n",
              "    </tr>\n",
              "  </thead>\n",
              "  <tbody>\n",
              "    <tr>\n",
              "      <th>0</th>\n",
              "      <td>D</td>\n",
              "      <td>Mathew</td>\n",
              "      <td>123459</td>\n",
              "      <td>20101012</td>\n",
              "      <td>20121013</td>\n",
              "      <td>MVD</td>\n",
              "      <td>Paul</td>\n",
              "      <td>WAS</td>\n",
              "      <td>PHIL</td>\n",
              "      <td>6031987</td>\n",
              "      <td>A</td>\n",
              "    </tr>\n",
              "  </tbody>\n",
              "</table>\n",
              "</div>"
            ],
            "text/plain": [
              "   H Customer_Name  Customer_Id  Open_Date  ...  State Country      DOB Is_Active\n",
              "0  D        Mathew       123459   20101012  ...    WAS    PHIL  6031987         A\n",
              "\n",
              "[1 rows x 11 columns]"
            ]
          },
          "metadata": {
            "tags": []
          }
        },
        {
          "output_type": "stream",
          "text": [
            "\n",
            "\n",
            "Table :  Table_NYC\n"
          ],
          "name": "stdout"
        },
        {
          "output_type": "display_data",
          "data": {
            "text/html": [
              "<div>\n",
              "<style scoped>\n",
              "    .dataframe tbody tr th:only-of-type {\n",
              "        vertical-align: middle;\n",
              "    }\n",
              "\n",
              "    .dataframe tbody tr th {\n",
              "        vertical-align: top;\n",
              "    }\n",
              "\n",
              "    .dataframe thead th {\n",
              "        text-align: right;\n",
              "    }\n",
              "</style>\n",
              "<table border=\"1\" class=\"dataframe\">\n",
              "  <thead>\n",
              "    <tr style=\"text-align: right;\">\n",
              "      <th></th>\n",
              "      <th>H</th>\n",
              "      <th>Customer_Name</th>\n",
              "      <th>Customer_Id</th>\n",
              "      <th>Open_Date</th>\n",
              "      <th>Last_Consulted_Date</th>\n",
              "      <th>Vaccination_Id</th>\n",
              "      <th>Dr_Name</th>\n",
              "      <th>State</th>\n",
              "      <th>Country</th>\n",
              "      <th>DOB</th>\n",
              "      <th>Is_Active</th>\n",
              "    </tr>\n",
              "  </thead>\n",
              "  <tbody>\n",
              "    <tr>\n",
              "      <th>0</th>\n",
              "      <td>D</td>\n",
              "      <td>Matt</td>\n",
              "      <td>12345</td>\n",
              "      <td>20101012</td>\n",
              "      <td>20121013</td>\n",
              "      <td>MVD</td>\n",
              "      <td>Paul</td>\n",
              "      <td>BOS</td>\n",
              "      <td>NYC</td>\n",
              "      <td>6031987</td>\n",
              "      <td>A</td>\n",
              "    </tr>\n",
              "  </tbody>\n",
              "</table>\n",
              "</div>"
            ],
            "text/plain": [
              "   H Customer_Name  Customer_Id  Open_Date  ...  State Country      DOB Is_Active\n",
              "0  D          Matt        12345   20101012  ...    BOS     NYC  6031987         A\n",
              "\n",
              "[1 rows x 11 columns]"
            ]
          },
          "metadata": {
            "tags": []
          }
        },
        {
          "output_type": "stream",
          "text": [
            "\n",
            "\n",
            "Table :  Table_AU\n"
          ],
          "name": "stdout"
        },
        {
          "output_type": "display_data",
          "data": {
            "text/html": [
              "<div>\n",
              "<style scoped>\n",
              "    .dataframe tbody tr th:only-of-type {\n",
              "        vertical-align: middle;\n",
              "    }\n",
              "\n",
              "    .dataframe tbody tr th {\n",
              "        vertical-align: top;\n",
              "    }\n",
              "\n",
              "    .dataframe thead th {\n",
              "        text-align: right;\n",
              "    }\n",
              "</style>\n",
              "<table border=\"1\" class=\"dataframe\">\n",
              "  <thead>\n",
              "    <tr style=\"text-align: right;\">\n",
              "      <th></th>\n",
              "      <th>H</th>\n",
              "      <th>Customer_Name</th>\n",
              "      <th>Customer_Id</th>\n",
              "      <th>Open_Date</th>\n",
              "      <th>Last_Consulted_Date</th>\n",
              "      <th>Vaccination_Id</th>\n",
              "      <th>Dr_Name</th>\n",
              "      <th>State</th>\n",
              "      <th>Country</th>\n",
              "      <th>DOB</th>\n",
              "      <th>Is_Active</th>\n",
              "    </tr>\n",
              "  </thead>\n",
              "  <tbody>\n",
              "    <tr>\n",
              "      <th>0</th>\n",
              "      <td>D</td>\n",
              "      <td>Jacob</td>\n",
              "      <td>1256</td>\n",
              "      <td>20101012</td>\n",
              "      <td>20121013</td>\n",
              "      <td>MVD</td>\n",
              "      <td>Paul</td>\n",
              "      <td>VIC</td>\n",
              "      <td>AU</td>\n",
              "      <td>6031987</td>\n",
              "      <td>A</td>\n",
              "    </tr>\n",
              "  </tbody>\n",
              "</table>\n",
              "</div>"
            ],
            "text/plain": [
              "   H Customer_Name  Customer_Id  Open_Date  ...  State Country      DOB Is_Active\n",
              "0  D         Jacob         1256   20101012  ...    VIC      AU  6031987         A\n",
              "\n",
              "[1 rows x 11 columns]"
            ]
          },
          "metadata": {
            "tags": []
          }
        }
      ]
    },
    {
      "cell_type": "code",
      "metadata": {
        "id": "EIcWq84Zmv8c"
      },
      "source": [
        ""
      ],
      "execution_count": null,
      "outputs": []
    }
  ]
}